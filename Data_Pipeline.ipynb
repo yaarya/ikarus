{
 "cells": [
  {
   "cell_type": "code",
   "execution_count": 1,
   "id": "4ac96af1",
   "metadata": {},
   "outputs": [
    {
     "name": "stdout",
     "output_type": "stream",
     "text": [
      "Loading and cleaning dataset...\n",
      "Data cleaning complete.\n",
      "\n",
      "Generating text embeddings...\n"
     ]
    },
    {
     "data": {
      "application/vnd.jupyter.widget-view+json": {
       "model_id": "96f0c760ca9b47f7bbdba9a7f6eae0fe",
       "version_major": 2,
       "version_minor": 0
      },
      "text/plain": [
       "  0%|          | 0/312 [00:00<?, ?it/s]"
      ]
     },
     "metadata": {},
     "output_type": "display_data"
    },
    {
     "name": "stdout",
     "output_type": "stream",
     "text": [
      "\n",
      "Generating image embeddings...\n"
     ]
    },
    {
     "data": {
      "application/vnd.jupyter.widget-view+json": {
       "model_id": "b8fa4411a1e4462aae0ed9c0347b6c90",
       "version_major": 2,
       "version_minor": 0
      },
      "text/plain": [
       "  0%|          | 0/312 [00:00<?, ?it/s]"
      ]
     },
     "metadata": {},
     "output_type": "display_data"
    },
    {
     "name": "stdout",
     "output_type": "stream",
     "text": [
      "\n",
      "Embedding generation complete.\n",
      "Clearing old data from Pinecone indexes...\n",
      "Indexes cleared.\n",
      "Starting upsert of new embeddings...\n"
     ]
    },
    {
     "data": {
      "application/vnd.jupyter.widget-view+json": {
       "model_id": "3dab090dd0ab47e4860f393be035b6c6",
       "version_major": 2,
       "version_minor": 0
      },
      "text/plain": [
       "  0%|          | 0/4 [00:00<?, ?it/s]"
      ]
     },
     "metadata": {},
     "output_type": "display_data"
    },
    {
     "name": "stdout",
     "output_type": "stream",
     "text": [
      "✅ Success! Your Pinecone database has been updated.\n"
     ]
    }
   ],
   "source": [
    "import pandas as pd\n",
    "import gdown\n",
    "import os\n",
    "import re\n",
    "import ast\n",
    "from tqdm.notebook import tqdm\n",
    "import torch\n",
    "import timm\n",
    "from sentence_transformers import SentenceTransformer\n",
    "from PIL import Image\n",
    "import requests\n",
    "from torchvision import transforms\n",
    "from pinecone import Pinecone, ServerlessSpec\n",
    "from dotenv import load_dotenv\n",
    "\n",
    "# --- 1. Load & Clean Raw Data ---\n",
    "print(\"Loading and cleaning dataset...\")\n",
    "df = pd.read_csv(\"furniture_dataset.csv\")\n",
    "\n",
    "def clean_price(price):\n",
    "    if isinstance(price, str):\n",
    "        try: return float(price.replace('$', '').replace(',', '').strip())\n",
    "        except ValueError: return None\n",
    "    return price\n",
    "\n",
    "def normalize_brand(brand):\n",
    "    return brand.replace('Store', '').strip() if isinstance(brand, str) else brand\n",
    "\n",
    "df['price_numeric'] = df['price'].apply(clean_price)\n",
    "df['brand_normalized'] = df['brand'].apply(normalize_brand)\n",
    "\n",
    "# CORRECTED: Use modern syntax to avoid warnings\n",
    "df['description'] = df['description'].fillna('')\n",
    "df['title'] = df['title'].fillna('')\n",
    "df['brand_normalized'] = df['brand_normalized'].fillna('')\n",
    "\n",
    "def safe_literal_eval(val):\n",
    "    try: return ast.literal_eval(val) if isinstance(val, str) and val.strip() else []\n",
    "    except (ValueError, SyntaxError): return []\n",
    "\n",
    "df['categories_list'] = df['categories'].apply(safe_literal_eval)\n",
    "\n",
    "# --- 2. Feature Engineering for Embeddings ---\n",
    "df['text_for_embedding'] = df['title'] + '. ' + df['description'] + ' Brand: ' + df['brand_normalized'] + '. Categories: ' + df['categories_list'].apply(lambda x: ', '.join(x))\n",
    "print(\"Data cleaning complete.\")\n",
    "\n",
    "# --- 3. Generate Embeddings ---\n",
    "DEVICE = \"cpu\"\n",
    "text_model = SentenceTransformer(\"sentence-transformers/all-MiniLM-L6-v2\", device=DEVICE)\n",
    "image_model = timm.create_model(\"resnet50\", pretrained=True, num_classes=0).to(DEVICE)\n",
    "image_model.eval()\n",
    "data_config = timm.data.resolve_model_data_config(image_model)\n",
    "image_transforms = timm.data.create_transform(**data_config, is_training=False)\n",
    "\n",
    "def get_text_embedding(text):\n",
    "    return text_model.encode(text).tolist() if isinstance(text, str) and text.strip() else [0.0] * 384\n",
    "\n",
    "def get_image_embedding(image_url):\n",
    "    try:\n",
    "        if not isinstance(image_url, str) or not image_url.startswith('http'): raise ValueError(\"Invalid URL\")\n",
    "        response = requests.get(image_url, stream=True, timeout=10)\n",
    "        response.raise_for_status()\n",
    "        image = Image.open(response.raw).convert(\"RGB\")\n",
    "        with torch.no_grad():\n",
    "            processed_image = image_transforms(image).unsqueeze(0).to(DEVICE)\n",
    "            embedding = image_model(processed_image)\n",
    "        return embedding.cpu().numpy().flatten().tolist()\n",
    "    except Exception:\n",
    "        return [0.0] * 2048\n",
    "\n",
    "tqdm.pandas()\n",
    "print(\"\\nGenerating text embeddings...\")\n",
    "df['text_embedding'] = df['text_for_embedding'].progress_apply(get_text_embedding)\n",
    "print(\"\\nGenerating image embeddings...\")\n",
    "df['image_url'] = df['images'].apply(safe_literal_eval).apply(lambda x: x[0] if x else None)\n",
    "df['image_embedding'] = df['image_url'].progress_apply(get_image_embedding)\n",
    "print(\"\\nEmbedding generation complete.\")\n",
    "\n",
    "# --- 4. Upload to Pinecone ---\n",
    "load_dotenv()\n",
    "PINECONE_API_KEY = os.getenv(\"PINECONE_API_KEY\")\n",
    "pc = Pinecone(api_key=PINECONE_API_KEY)\n",
    "TEXT_INDEX_NAME, IMAGE_INDEX_NAME = \"furniture-text-search\", \"furniture-image-search\"\n",
    "\n",
    "print(\"Clearing old data from Pinecone indexes...\")\n",
    "text_index = pc.Index(TEXT_INDEX_NAME)\n",
    "image_index = pc.Index(IMAGE_INDEX_NAME)\n",
    "text_index.delete(delete_all=True)\n",
    "image_index.delete(delete_all=True)\n",
    "print(\"Indexes cleared.\")\n",
    "\n",
    "BATCH_SIZE = 100\n",
    "print(f\"Starting upsert of new embeddings...\")\n",
    "for i in tqdm(range(0, len(df), BATCH_SIZE)):\n",
    "    batch = df.iloc[i:i+BATCH_SIZE]\n",
    "    text_vectors_to_upsert, image_vectors_to_upsert = [], []\n",
    "    for _, row in batch.iterrows():\n",
    "        metadata = {\n",
    "            'uniq_id': str(row['uniq_id']), 'title': row['title'], 'brand': row['brand_normalized'],\n",
    "            'price': str(row['price_numeric']) if pd.notna(row['price_numeric']) else '',\n",
    "            'image_url': row['image_url'] if pd.notna(row['image_url']) else ''\n",
    "        }\n",
    "        if any(row['text_embedding']): text_vectors_to_upsert.append((str(row['uniq_id']), row['text_embedding'], metadata))\n",
    "        if any(row['image_embedding']): image_vectors_to_upsert.append((str(row['uniq_id']), row['image_embedding'], metadata))\n",
    "    if text_vectors_to_upsert: text_index.upsert(vectors=text_vectors_to_upsert)\n",
    "    if image_vectors_to_upsert: image_index.upsert(vectors=image_vectors_to_upsert)\n",
    "\n",
    "print(\"✅ Success! Your Pinecone database has been updated.\")"
   ]
  },
  {
   "cell_type": "code",
   "execution_count": 2,
   "id": "1bae35ed",
   "metadata": {},
   "outputs": [
    {
     "name": "stdout",
     "output_type": "stream",
     "text": [
      "--- Checking Metadata in Pinecone ---\n",
      "Metadata for one vector in your image index:\n",
      "{'brand': 'Allied Brass', 'image_url': 'https://m.media-amazon.com/images/I/21+UCtQ6p9L._SS522_.jpg', 'price': '', 'title': 'Allied Brass Carolina Crystal Collection Frameless Oval Tilt Beveled Edge Wall Mirror, Antique Brass', 'uniq_id': 'b7838b38-a622-52b8-b226-972abfab2abc'}\n",
      "\n",
      "--- End of Check ---\n"
     ]
    }
   ],
   "source": [
    "print(\"--- Checking Metadata in Pinecone ---\")\n",
    "\n",
    "# Connect to the image index\n",
    "image_index = pc.Index(\"furniture-image-search\")\n",
    "\n",
    "# Query for the top 1 vector just to get its metadata\n",
    "query_response = image_index.query(\n",
    "    vector=[0.0] * 2048, # Dummy vector\n",
    "    top_k=1,\n",
    "    include_metadata=True\n",
    ")\n",
    "\n",
    "# Print the metadata of the first result, if any\n",
    "if query_response.matches:\n",
    "    first_match_metadata = query_response.matches[0].metadata\n",
    "    print(\"Metadata for one vector in your image index:\")\n",
    "    print(first_match_metadata)\n",
    "else:\n",
    "    print(\"The image index appears to be empty.\")\n",
    "\n",
    "print(\"\\n--- End of Check ---\")"
   ]
  }
 ],
 "metadata": {
  "kernelspec": {
   "display_name": "Python 3",
   "language": "python",
   "name": "python3"
  },
  "language_info": {
   "codemirror_mode": {
    "name": "ipython",
    "version": 3
   },
   "file_extension": ".py",
   "mimetype": "text/x-python",
   "name": "python",
   "nbconvert_exporter": "python",
   "pygments_lexer": "ipython3",
   "version": "3.12.0"
  }
 },
 "nbformat": 4,
 "nbformat_minor": 5
}
